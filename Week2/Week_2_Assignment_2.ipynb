{
  "nbformat": 4,
  "nbformat_minor": 0,
  "metadata": {
    "colab": {
      "name": "Week 2_Assignment 2.ipynb",
      "provenance": [],
      "collapsed_sections": [],
      "include_colab_link": true
    },
    "kernelspec": {
      "name": "python3",
      "display_name": "Python 3"
    }
  },
  "cells": [
    {
      "cell_type": "markdown",
      "metadata": {
        "id": "view-in-github",
        "colab_type": "text"
      },
      "source": [
        "<a href=\"https://colab.research.google.com/github/varydabe/Data-AI_FinalAssignmentMIC/blob/master/Week2/Week_2_Assignment_2.ipynb\" target=\"_parent\"><img src=\"https://colab.research.google.com/assets/colab-badge.svg\" alt=\"Open In Colab\"/></a>"
      ]
    },
    {
      "cell_type": "markdown",
      "metadata": {
        "id": "R4jZh9B1G0gt",
        "colab_type": "text"
      },
      "source": [
        "#Welcome to Assignment 2 of Week 2!"
      ]
    },
    {
      "cell_type": "markdown",
      "metadata": {
        "id": "FctVIOejG9FK",
        "colab_type": "text"
      },
      "source": [
        "<div align='center'>\n",
        "  <h1>You are a Police Captain</h1>\n",
        "  <img src='https://drive.google.com/uc?export=view&id=1LsHdDHL_AniRo-_uN9YfuJJIZaLD5VqG'></img>\n",
        "</div>\n",
        "<h4>As a police captain you want to analyze all the crime that happen to your district from 2001-2017 to improve police performance. But, once again your Data guy is taking his day off, you decided to do it yourself.</h4>\n",
        "<h5>PS: You can get the original dataset here: <a href='https://www.kaggle.com/currie32/crimes-in-chicago?select=Chicago_Crimes_2001_to_2004.csv'>https://www.kaggle.com/currie32/crimes-in-chicago?select=Chicago_Crimes_2001_to_2004.csv'</a>. Because the size is big, I take only 500k rows each files."
      ]
    },
    {
      "cell_type": "code",
      "metadata": {
        "id": "rpU6j2uFSGXw",
        "colab_type": "code",
        "colab": {
          "base_uri": "https://localhost:8080/",
          "height": 35
        },
        "outputId": "8d7dcaec-e117-4eba-feac-e058c307f780"
      },
      "source": [
        "from google.colab import drive\n",
        "drive.mount('/content/drive')"
      ],
      "execution_count": 173,
      "outputs": [
        {
          "output_type": "stream",
          "text": [
            "Drive already mounted at /content/drive; to attempt to forcibly remount, call drive.mount(\"/content/drive\", force_remount=True).\n"
          ],
          "name": "stdout"
        }
      ]
    },
    {
      "cell_type": "markdown",
      "metadata": {
        "id": "bzKsetSmLk7k",
        "colab_type": "text"
      },
      "source": [
        "#Task 1. Import and Combine All the Data\n",
        "You have really huge data, but they separated in an year interval. Now you are going to read them ana combine them all. \n",
        "\n",
        "> This task will practice you to list files inside directory using glob, concatenated data, and drop dataframe column."
      ]
    },
    {
      "cell_type": "code",
      "metadata": {
        "id": "I2EvwNOHJi9t",
        "colab_type": "code",
        "colab": {}
      },
      "source": [
        "#Import pandas package to process dataframes\n",
        "import pandas as pd\n",
        "#import glob to finds all the pathnames matching a specified pattern, in this case all .csv files inside Chicago Crime folder\n",
        "import glob\n",
        "\n",
        "#Let's see how glob works and what it return\n",
        "all_files = glob.glob('/content/drive/My Drive/Colab Notebooks/Python For Data Science Project/Week 2/Data/Chicago Crime/*csv')\n"
      ],
      "execution_count": 174,
      "outputs": []
    },
    {
      "cell_type": "code",
      "metadata": {
        "id": "knfIc4l9MpFE",
        "colab_type": "code",
        "colab": {
          "base_uri": "https://localhost:8080/",
          "height": 87
        },
        "outputId": "a32e5266-2661-4428-8087-8cc8b4393730"
      },
      "source": [
        "#Let's see how glob works and what it return\n",
        "all_files = glob.glob('/content/drive/My Drive/Colab Notebooks/Python For Data Science Project/Week 2/Data/Chicago Crime/*csv')\n",
        "all_files"
      ],
      "execution_count": 175,
      "outputs": [
        {
          "output_type": "execute_result",
          "data": {
            "text/plain": [
              "['/content/drive/My Drive/Colab Notebooks/Python For Data Science Project/Week 2/Data/Chicago Crime/Chicago_crimes_2005_to_2007.csv',\n",
              " '/content/drive/My Drive/Colab Notebooks/Python For Data Science Project/Week 2/Data/Chicago Crime/Chicago_crimes_2001_to_2004.csv',\n",
              " '/content/drive/My Drive/Colab Notebooks/Python For Data Science Project/Week 2/Data/Chicago Crime/Chicago_crimes_2008_to_2011.csv',\n",
              " '/content/drive/My Drive/Colab Notebooks/Python For Data Science Project/Week 2/Data/Chicago Crime/Chicago_crimes_2012_to_2017.csv']"
            ]
          },
          "metadata": {
            "tags": []
          },
          "execution_count": 175
        }
      ]
    },
    {
      "cell_type": "markdown",
      "metadata": {
        "id": "sRNLipzcM7pf",
        "colab_type": "text"
      },
      "source": [
        "You see that we use *.csv to get all file name ending with .csv and it return a list all the file in format .csv. We are gonna loop over these 3 files and read them."
      ]
    },
    {
      "cell_type": "markdown",
      "metadata": {
        "id": "tylOUGudXf-7",
        "colab_type": "text"
      },
      "source": [
        "<details>    \n",
        "<summary>\n",
        "    <font size=\"3\" color=\"darkgreen\"><b>Hints</b></font>\n",
        "</summary>\n",
        "<p>\n",
        "<ul>\n",
        "    <li>We can create pd.DataFrame() without any parameters to create empty dataframes</li>\n",
        "    <li>Remember we loop inside the file lists</li>\n",
        "    <li>What method to read a csv? Yes, pd.read_csv()</li>\n",
        "    <li>We can concatenate our dataframe with pd.concat() and pass parameter of ignore_index.</li>\n",
        "    <li>What method to print dataframe info? Yes, df.info()</li>\n",
        "\n",
        "\n",
        "</ul>\n",
        "</p>\n",
        "\n"
      ]
    },
    {
      "cell_type": "code",
      "metadata": {
        "id": "jGzHd0_0M1jd",
        "colab_type": "code",
        "colab": {
          "base_uri": "https://localhost:8080/",
          "height": 537
        },
        "outputId": "eaf402ee-9004-4d47-e8d4-53a5d92cd7d7"
      },
      "source": [
        "### START CODE HERE (REPLACE INSTANCES OF 'None' with your code) ###\n",
        "#First we creat an empty dataframe to contain our concatenated dataframes\n",
        "df = pd.DataFrame()\n",
        "\n",
        "#Loop over all files csv\n",
        "for file in all_files:\n",
        "  \n",
        "  #Read the csv\n",
        "  df_tmp = pd.read_csv(file)\n",
        "\n",
        "  #concate the empty dataframe with our new dataframe\n",
        "  df = pd.concat([df,df_tmp], ignore_index=True)\n",
        "\n",
        "#print dataframe information to see if our data is ready\n",
        "df.info()\n",
        "\n"
      ],
      "execution_count": 176,
      "outputs": [
        {
          "output_type": "stream",
          "text": [
            "<class 'pandas.core.frame.DataFrame'>\n",
            "RangeIndex: 2000000 entries, 0 to 1999999\n",
            "Data columns (total 23 columns):\n",
            " #   Column                Dtype  \n",
            "---  ------                -----  \n",
            " 0   Unnamed: 0            int64  \n",
            " 1   ID                    int64  \n",
            " 2   Case Number           object \n",
            " 3   Date                  object \n",
            " 4   Block                 object \n",
            " 5   IUCR                  object \n",
            " 6   Primary Type          object \n",
            " 7   Description           object \n",
            " 8   Location Description  object \n",
            " 9   Arrest                bool   \n",
            " 10  Domestic              bool   \n",
            " 11  Beat                  int64  \n",
            " 12  District              float64\n",
            " 13  Ward                  float64\n",
            " 14  Community Area        float64\n",
            " 15  FBI Code              object \n",
            " 16  X Coordinate          float64\n",
            " 17  Y Coordinate          float64\n",
            " 18  Year                  int64  \n",
            " 19  Updated On            object \n",
            " 20  Latitude              float64\n",
            " 21  Longitude             float64\n",
            " 22  Location              object \n",
            "dtypes: bool(2), float64(7), int64(4), object(10)\n",
            "memory usage: 324.2+ MB\n"
          ],
          "name": "stdout"
        }
      ]
    },
    {
      "cell_type": "markdown",
      "metadata": {
        "id": "rgOFzdF2XVYc",
        "colab_type": "text"
      },
      "source": [
        "EXPECTED OUTPUT\n",
        "```\n",
        "<class 'pandas.core.frame.DataFrame'>\n",
        "RangeIndex: 2000000 entries, 0 to 1999999\n",
        "Data columns (total 23 columns):\n",
        " #   Column                Dtype  \n",
        "---  ------                -----  \n",
        " 0   Unnamed: 0            int64  \n",
        " 1   ID                    int64  \n",
        " 2   Case Number           object \n",
        " 3   Date                  object \n",
        " 4   Block                 object \n",
        " 5   IUCR                  object \n",
        " 6   Primary Type          object \n",
        " 7   Description           object \n",
        " 8   Location Description  object \n",
        " 9   Arrest                bool   \n",
        " 10  Domestic              bool   \n",
        " 11  Beat                  int64  \n",
        " 12  District              float64\n",
        " 13  Ward                  float64\n",
        " 14  Community Area        float64\n",
        " 15  FBI Code              object \n",
        " 16  X Coordinate          float64\n",
        " 17  Y Coordinate          float64\n",
        " 18  Year                  int64  \n",
        " 19  Updated On            object \n",
        " 20  Latitude              float64\n",
        " 21  Longitude             float64\n",
        " 22  Location              object \n",
        "dtypes: bool(2), float64(7), int64(4), object(10)\n",
        "memory usage: 324.2+ MB\n",
        "```"
      ]
    },
    {
      "cell_type": "markdown",
      "metadata": {
        "id": "krASEu-za9ST",
        "colab_type": "text"
      },
      "source": [
        "Now, lets take look at the dataset."
      ]
    },
    {
      "cell_type": "code",
      "metadata": {
        "id": "KN-dHeCzNShZ",
        "colab_type": "code",
        "colab": {
          "base_uri": "https://localhost:8080/",
          "height": 799
        },
        "outputId": "0a7a3708-0608-4fd7-c8c5-f149be33b221"
      },
      "source": [
        "df"
      ],
      "execution_count": 177,
      "outputs": [
        {
          "output_type": "execute_result",
          "data": {
            "text/html": [
              "<div>\n",
              "<style scoped>\n",
              "    .dataframe tbody tr th:only-of-type {\n",
              "        vertical-align: middle;\n",
              "    }\n",
              "\n",
              "    .dataframe tbody tr th {\n",
              "        vertical-align: top;\n",
              "    }\n",
              "\n",
              "    .dataframe thead th {\n",
              "        text-align: right;\n",
              "    }\n",
              "</style>\n",
              "<table border=\"1\" class=\"dataframe\">\n",
              "  <thead>\n",
              "    <tr style=\"text-align: right;\">\n",
              "      <th></th>\n",
              "      <th>Unnamed: 0</th>\n",
              "      <th>ID</th>\n",
              "      <th>Case Number</th>\n",
              "      <th>Date</th>\n",
              "      <th>Block</th>\n",
              "      <th>IUCR</th>\n",
              "      <th>Primary Type</th>\n",
              "      <th>Description</th>\n",
              "      <th>Location Description</th>\n",
              "      <th>Arrest</th>\n",
              "      <th>Domestic</th>\n",
              "      <th>Beat</th>\n",
              "      <th>District</th>\n",
              "      <th>Ward</th>\n",
              "      <th>Community Area</th>\n",
              "      <th>FBI Code</th>\n",
              "      <th>X Coordinate</th>\n",
              "      <th>Y Coordinate</th>\n",
              "      <th>Year</th>\n",
              "      <th>Updated On</th>\n",
              "      <th>Latitude</th>\n",
              "      <th>Longitude</th>\n",
              "      <th>Location</th>\n",
              "    </tr>\n",
              "  </thead>\n",
              "  <tbody>\n",
              "    <tr>\n",
              "      <th>0</th>\n",
              "      <td>0</td>\n",
              "      <td>4673626</td>\n",
              "      <td>HM274058</td>\n",
              "      <td>04/02/2006 01:00:00 PM</td>\n",
              "      <td>055XX N MANGO AVE</td>\n",
              "      <td>2825</td>\n",
              "      <td>OTHER OFFENSE</td>\n",
              "      <td>HARASSMENT BY TELEPHONE</td>\n",
              "      <td>RESIDENCE</td>\n",
              "      <td>False</td>\n",
              "      <td>False</td>\n",
              "      <td>1622</td>\n",
              "      <td>16.0</td>\n",
              "      <td>45.0</td>\n",
              "      <td>11.0</td>\n",
              "      <td>26</td>\n",
              "      <td>1136872.0</td>\n",
              "      <td>1936499.0</td>\n",
              "      <td>2006</td>\n",
              "      <td>04/15/2016 08:55:02 AM</td>\n",
              "      <td>41.981913</td>\n",
              "      <td>-87.771996</td>\n",
              "      <td>(41.981912692, -87.771996382)</td>\n",
              "    </tr>\n",
              "    <tr>\n",
              "      <th>1</th>\n",
              "      <td>1</td>\n",
              "      <td>4673627</td>\n",
              "      <td>HM202199</td>\n",
              "      <td>02/26/2006 01:40:48 PM</td>\n",
              "      <td>065XX S RHODES AVE</td>\n",
              "      <td>2017</td>\n",
              "      <td>NARCOTICS</td>\n",
              "      <td>MANU/DELIVER:CRACK</td>\n",
              "      <td>SIDEWALK</td>\n",
              "      <td>True</td>\n",
              "      <td>False</td>\n",
              "      <td>321</td>\n",
              "      <td>3.0</td>\n",
              "      <td>20.0</td>\n",
              "      <td>42.0</td>\n",
              "      <td>18</td>\n",
              "      <td>1181027.0</td>\n",
              "      <td>1861693.0</td>\n",
              "      <td>2006</td>\n",
              "      <td>04/15/2016 08:55:02 AM</td>\n",
              "      <td>41.775733</td>\n",
              "      <td>-87.611920</td>\n",
              "      <td>(41.775732538, -87.611919814)</td>\n",
              "    </tr>\n",
              "    <tr>\n",
              "      <th>2</th>\n",
              "      <td>2</td>\n",
              "      <td>4673628</td>\n",
              "      <td>HM113861</td>\n",
              "      <td>01/08/2006 11:16:00 PM</td>\n",
              "      <td>013XX E 69TH ST</td>\n",
              "      <td>051A</td>\n",
              "      <td>ASSAULT</td>\n",
              "      <td>AGGRAVATED: HANDGUN</td>\n",
              "      <td>OTHER</td>\n",
              "      <td>False</td>\n",
              "      <td>False</td>\n",
              "      <td>321</td>\n",
              "      <td>3.0</td>\n",
              "      <td>5.0</td>\n",
              "      <td>69.0</td>\n",
              "      <td>04A</td>\n",
              "      <td>1186023.0</td>\n",
              "      <td>1859609.0</td>\n",
              "      <td>2006</td>\n",
              "      <td>04/15/2016 08:55:02 AM</td>\n",
              "      <td>41.769897</td>\n",
              "      <td>-87.593671</td>\n",
              "      <td>(41.769897392, -87.593670899)</td>\n",
              "    </tr>\n",
              "    <tr>\n",
              "      <th>3</th>\n",
              "      <td>4</td>\n",
              "      <td>4673629</td>\n",
              "      <td>HM274049</td>\n",
              "      <td>04/05/2006 06:45:00 PM</td>\n",
              "      <td>061XX W NEWPORT AVE</td>\n",
              "      <td>0460</td>\n",
              "      <td>BATTERY</td>\n",
              "      <td>SIMPLE</td>\n",
              "      <td>RESIDENCE</td>\n",
              "      <td>False</td>\n",
              "      <td>False</td>\n",
              "      <td>1633</td>\n",
              "      <td>16.0</td>\n",
              "      <td>38.0</td>\n",
              "      <td>17.0</td>\n",
              "      <td>08B</td>\n",
              "      <td>1134772.0</td>\n",
              "      <td>1922299.0</td>\n",
              "      <td>2006</td>\n",
              "      <td>04/15/2016 08:55:02 AM</td>\n",
              "      <td>41.942984</td>\n",
              "      <td>-87.780057</td>\n",
              "      <td>(41.942984005, -87.780056951)</td>\n",
              "    </tr>\n",
              "    <tr>\n",
              "      <th>4</th>\n",
              "      <td>5</td>\n",
              "      <td>4673630</td>\n",
              "      <td>HM187120</td>\n",
              "      <td>02/17/2006 09:03:14 PM</td>\n",
              "      <td>037XX W 60TH ST</td>\n",
              "      <td>1811</td>\n",
              "      <td>NARCOTICS</td>\n",
              "      <td>POSS: CANNABIS 30GMS OR LESS</td>\n",
              "      <td>ALLEY</td>\n",
              "      <td>True</td>\n",
              "      <td>False</td>\n",
              "      <td>822</td>\n",
              "      <td>8.0</td>\n",
              "      <td>13.0</td>\n",
              "      <td>65.0</td>\n",
              "      <td>18</td>\n",
              "      <td>1152412.0</td>\n",
              "      <td>1864560.0</td>\n",
              "      <td>2006</td>\n",
              "      <td>04/15/2016 08:55:02 AM</td>\n",
              "      <td>41.784211</td>\n",
              "      <td>-87.716745</td>\n",
              "      <td>(41.784210853, -87.71674491)</td>\n",
              "    </tr>\n",
              "    <tr>\n",
              "      <th>...</th>\n",
              "      <td>...</td>\n",
              "      <td>...</td>\n",
              "      <td>...</td>\n",
              "      <td>...</td>\n",
              "      <td>...</td>\n",
              "      <td>...</td>\n",
              "      <td>...</td>\n",
              "      <td>...</td>\n",
              "      <td>...</td>\n",
              "      <td>...</td>\n",
              "      <td>...</td>\n",
              "      <td>...</td>\n",
              "      <td>...</td>\n",
              "      <td>...</td>\n",
              "      <td>...</td>\n",
              "      <td>...</td>\n",
              "      <td>...</td>\n",
              "      <td>...</td>\n",
              "      <td>...</td>\n",
              "      <td>...</td>\n",
              "      <td>...</td>\n",
              "      <td>...</td>\n",
              "      <td>...</td>\n",
              "    </tr>\n",
              "    <tr>\n",
              "      <th>1999995</th>\n",
              "      <td>2834875</td>\n",
              "      <td>9104438</td>\n",
              "      <td>HW248539</td>\n",
              "      <td>04/26/2013 10:25:00 AM</td>\n",
              "      <td>0000X W CTA 95TH ST LN</td>\n",
              "      <td>1210</td>\n",
              "      <td>DECEPTIVE PRACTICE</td>\n",
              "      <td>THEFT OF LABOR/SERVICES</td>\n",
              "      <td>CTA PLATFORM</td>\n",
              "      <td>False</td>\n",
              "      <td>False</td>\n",
              "      <td>634</td>\n",
              "      <td>6.0</td>\n",
              "      <td>21.0</td>\n",
              "      <td>49.0</td>\n",
              "      <td>11</td>\n",
              "      <td>1177779.0</td>\n",
              "      <td>1842365.0</td>\n",
              "      <td>2013</td>\n",
              "      <td>02/04/2016 06:33:39 AM</td>\n",
              "      <td>41.722768</td>\n",
              "      <td>-87.624410</td>\n",
              "      <td>(41.722768379, -87.624410361)</td>\n",
              "    </tr>\n",
              "    <tr>\n",
              "      <th>1999996</th>\n",
              "      <td>2834876</td>\n",
              "      <td>9104439</td>\n",
              "      <td>HW248562</td>\n",
              "      <td>04/26/2013 12:07:00 PM</td>\n",
              "      <td>071XX S EMERALD AVE</td>\n",
              "      <td>1811</td>\n",
              "      <td>NARCOTICS</td>\n",
              "      <td>POSS: CANNABIS 30GMS OR LESS</td>\n",
              "      <td>ALLEY</td>\n",
              "      <td>True</td>\n",
              "      <td>False</td>\n",
              "      <td>732</td>\n",
              "      <td>7.0</td>\n",
              "      <td>6.0</td>\n",
              "      <td>68.0</td>\n",
              "      <td>18</td>\n",
              "      <td>1172582.0</td>\n",
              "      <td>1857446.0</td>\n",
              "      <td>2013</td>\n",
              "      <td>02/04/2016 06:33:39 AM</td>\n",
              "      <td>41.764268</td>\n",
              "      <td>-87.643003</td>\n",
              "      <td>(41.764268496, -87.643003179)</td>\n",
              "    </tr>\n",
              "    <tr>\n",
              "      <th>1999997</th>\n",
              "      <td>2834877</td>\n",
              "      <td>9104442</td>\n",
              "      <td>HW248328</td>\n",
              "      <td>04/26/2013 06:15:00 AM</td>\n",
              "      <td>131XX S BALTIMORE AVE</td>\n",
              "      <td>1811</td>\n",
              "      <td>NARCOTICS</td>\n",
              "      <td>POSS: CANNABIS 30GMS OR LESS</td>\n",
              "      <td>RESIDENCE</td>\n",
              "      <td>True</td>\n",
              "      <td>False</td>\n",
              "      <td>433</td>\n",
              "      <td>4.0</td>\n",
              "      <td>10.0</td>\n",
              "      <td>55.0</td>\n",
              "      <td>18</td>\n",
              "      <td>1199093.0</td>\n",
              "      <td>1818497.0</td>\n",
              "      <td>2013</td>\n",
              "      <td>02/04/2016 06:33:39 AM</td>\n",
              "      <td>41.656764</td>\n",
              "      <td>-87.547139</td>\n",
              "      <td>(41.656764077, -87.547138923)</td>\n",
              "    </tr>\n",
              "    <tr>\n",
              "      <th>1999998</th>\n",
              "      <td>2834878</td>\n",
              "      <td>9104444</td>\n",
              "      <td>HW248237</td>\n",
              "      <td>04/26/2013 02:00:00 AM</td>\n",
              "      <td>005XX N RIDGEWAY AVE</td>\n",
              "      <td>0820</td>\n",
              "      <td>THEFT</td>\n",
              "      <td>$500 AND UNDER</td>\n",
              "      <td>STREET</td>\n",
              "      <td>False</td>\n",
              "      <td>False</td>\n",
              "      <td>1122</td>\n",
              "      <td>11.0</td>\n",
              "      <td>27.0</td>\n",
              "      <td>23.0</td>\n",
              "      <td>06</td>\n",
              "      <td>1151290.0</td>\n",
              "      <td>1903388.0</td>\n",
              "      <td>2013</td>\n",
              "      <td>02/04/2016 06:33:39 AM</td>\n",
              "      <td>41.890782</td>\n",
              "      <td>-87.719842</td>\n",
              "      <td>(41.890781894, -87.719841858)</td>\n",
              "    </tr>\n",
              "    <tr>\n",
              "      <th>1999999</th>\n",
              "      <td>2834879</td>\n",
              "      <td>9104445</td>\n",
              "      <td>HW248219</td>\n",
              "      <td>04/26/2013 05:10:00 AM</td>\n",
              "      <td>009XX W LAWRENCE AVE</td>\n",
              "      <td>0890</td>\n",
              "      <td>THEFT</td>\n",
              "      <td>FROM BUILDING</td>\n",
              "      <td>CHURCH/SYNAGOGUE/PLACE OF WORSHIP</td>\n",
              "      <td>False</td>\n",
              "      <td>False</td>\n",
              "      <td>1914</td>\n",
              "      <td>19.0</td>\n",
              "      <td>46.0</td>\n",
              "      <td>3.0</td>\n",
              "      <td>06</td>\n",
              "      <td>1169113.0</td>\n",
              "      <td>1932066.0</td>\n",
              "      <td>2013</td>\n",
              "      <td>02/04/2016 06:33:39 AM</td>\n",
              "      <td>41.969107</td>\n",
              "      <td>-87.653552</td>\n",
              "      <td>(41.969107389, -87.653552149)</td>\n",
              "    </tr>\n",
              "  </tbody>\n",
              "</table>\n",
              "<p>2000000 rows × 23 columns</p>\n",
              "</div>"
            ],
            "text/plain": [
              "         Unnamed: 0       ID  ...  Longitude                       Location\n",
              "0                 0  4673626  ... -87.771996  (41.981912692, -87.771996382)\n",
              "1                 1  4673627  ... -87.611920  (41.775732538, -87.611919814)\n",
              "2                 2  4673628  ... -87.593671  (41.769897392, -87.593670899)\n",
              "3                 4  4673629  ... -87.780057  (41.942984005, -87.780056951)\n",
              "4                 5  4673630  ... -87.716745   (41.784210853, -87.71674491)\n",
              "...             ...      ...  ...        ...                            ...\n",
              "1999995     2834875  9104438  ... -87.624410  (41.722768379, -87.624410361)\n",
              "1999996     2834876  9104439  ... -87.643003  (41.764268496, -87.643003179)\n",
              "1999997     2834877  9104442  ... -87.547139  (41.656764077, -87.547138923)\n",
              "1999998     2834878  9104444  ... -87.719842  (41.890781894, -87.719841858)\n",
              "1999999     2834879  9104445  ... -87.653552  (41.969107389, -87.653552149)\n",
              "\n",
              "[2000000 rows x 23 columns]"
            ]
          },
          "metadata": {
            "tags": []
          },
          "execution_count": 177
        }
      ]
    },
    {
      "cell_type": "markdown",
      "metadata": {
        "id": "Qa84wmOzbKHT",
        "colab_type": "text"
      },
      "source": [
        "We still have irrelevant column: 'Unnamed: 0', we have to drop it."
      ]
    },
    {
      "cell_type": "code",
      "metadata": {
        "id": "vJ2x-80KTXr6",
        "colab_type": "code",
        "colab": {
          "base_uri": "https://localhost:8080/",
          "height": 739
        },
        "outputId": "d8bd66d2-5e81-4bea-dd7f-7c78813d99fb"
      },
      "source": [
        "#RUN THIS CELL AND DO NOT EDIT\n",
        "#To drop a column, we can use .drop method\n",
        "df = df.drop('Unnamed: 0', axis=1)\n",
        "#We use axis=1 to drop column\n",
        "\n",
        "#print 10 first dataframe\n",
        "df.head(10)"
      ],
      "execution_count": 178,
      "outputs": [
        {
          "output_type": "execute_result",
          "data": {
            "text/html": [
              "<div>\n",
              "<style scoped>\n",
              "    .dataframe tbody tr th:only-of-type {\n",
              "        vertical-align: middle;\n",
              "    }\n",
              "\n",
              "    .dataframe tbody tr th {\n",
              "        vertical-align: top;\n",
              "    }\n",
              "\n",
              "    .dataframe thead th {\n",
              "        text-align: right;\n",
              "    }\n",
              "</style>\n",
              "<table border=\"1\" class=\"dataframe\">\n",
              "  <thead>\n",
              "    <tr style=\"text-align: right;\">\n",
              "      <th></th>\n",
              "      <th>ID</th>\n",
              "      <th>Case Number</th>\n",
              "      <th>Date</th>\n",
              "      <th>Block</th>\n",
              "      <th>IUCR</th>\n",
              "      <th>Primary Type</th>\n",
              "      <th>Description</th>\n",
              "      <th>Location Description</th>\n",
              "      <th>Arrest</th>\n",
              "      <th>Domestic</th>\n",
              "      <th>Beat</th>\n",
              "      <th>District</th>\n",
              "      <th>Ward</th>\n",
              "      <th>Community Area</th>\n",
              "      <th>FBI Code</th>\n",
              "      <th>X Coordinate</th>\n",
              "      <th>Y Coordinate</th>\n",
              "      <th>Year</th>\n",
              "      <th>Updated On</th>\n",
              "      <th>Latitude</th>\n",
              "      <th>Longitude</th>\n",
              "      <th>Location</th>\n",
              "    </tr>\n",
              "  </thead>\n",
              "  <tbody>\n",
              "    <tr>\n",
              "      <th>0</th>\n",
              "      <td>4673626</td>\n",
              "      <td>HM274058</td>\n",
              "      <td>04/02/2006 01:00:00 PM</td>\n",
              "      <td>055XX N MANGO AVE</td>\n",
              "      <td>2825</td>\n",
              "      <td>OTHER OFFENSE</td>\n",
              "      <td>HARASSMENT BY TELEPHONE</td>\n",
              "      <td>RESIDENCE</td>\n",
              "      <td>False</td>\n",
              "      <td>False</td>\n",
              "      <td>1622</td>\n",
              "      <td>16.0</td>\n",
              "      <td>45.0</td>\n",
              "      <td>11.0</td>\n",
              "      <td>26</td>\n",
              "      <td>1136872.0</td>\n",
              "      <td>1936499.0</td>\n",
              "      <td>2006</td>\n",
              "      <td>04/15/2016 08:55:02 AM</td>\n",
              "      <td>41.981913</td>\n",
              "      <td>-87.771996</td>\n",
              "      <td>(41.981912692, -87.771996382)</td>\n",
              "    </tr>\n",
              "    <tr>\n",
              "      <th>1</th>\n",
              "      <td>4673627</td>\n",
              "      <td>HM202199</td>\n",
              "      <td>02/26/2006 01:40:48 PM</td>\n",
              "      <td>065XX S RHODES AVE</td>\n",
              "      <td>2017</td>\n",
              "      <td>NARCOTICS</td>\n",
              "      <td>MANU/DELIVER:CRACK</td>\n",
              "      <td>SIDEWALK</td>\n",
              "      <td>True</td>\n",
              "      <td>False</td>\n",
              "      <td>321</td>\n",
              "      <td>3.0</td>\n",
              "      <td>20.0</td>\n",
              "      <td>42.0</td>\n",
              "      <td>18</td>\n",
              "      <td>1181027.0</td>\n",
              "      <td>1861693.0</td>\n",
              "      <td>2006</td>\n",
              "      <td>04/15/2016 08:55:02 AM</td>\n",
              "      <td>41.775733</td>\n",
              "      <td>-87.611920</td>\n",
              "      <td>(41.775732538, -87.611919814)</td>\n",
              "    </tr>\n",
              "    <tr>\n",
              "      <th>2</th>\n",
              "      <td>4673628</td>\n",
              "      <td>HM113861</td>\n",
              "      <td>01/08/2006 11:16:00 PM</td>\n",
              "      <td>013XX E 69TH ST</td>\n",
              "      <td>051A</td>\n",
              "      <td>ASSAULT</td>\n",
              "      <td>AGGRAVATED: HANDGUN</td>\n",
              "      <td>OTHER</td>\n",
              "      <td>False</td>\n",
              "      <td>False</td>\n",
              "      <td>321</td>\n",
              "      <td>3.0</td>\n",
              "      <td>5.0</td>\n",
              "      <td>69.0</td>\n",
              "      <td>04A</td>\n",
              "      <td>1186023.0</td>\n",
              "      <td>1859609.0</td>\n",
              "      <td>2006</td>\n",
              "      <td>04/15/2016 08:55:02 AM</td>\n",
              "      <td>41.769897</td>\n",
              "      <td>-87.593671</td>\n",
              "      <td>(41.769897392, -87.593670899)</td>\n",
              "    </tr>\n",
              "    <tr>\n",
              "      <th>3</th>\n",
              "      <td>4673629</td>\n",
              "      <td>HM274049</td>\n",
              "      <td>04/05/2006 06:45:00 PM</td>\n",
              "      <td>061XX W NEWPORT AVE</td>\n",
              "      <td>0460</td>\n",
              "      <td>BATTERY</td>\n",
              "      <td>SIMPLE</td>\n",
              "      <td>RESIDENCE</td>\n",
              "      <td>False</td>\n",
              "      <td>False</td>\n",
              "      <td>1633</td>\n",
              "      <td>16.0</td>\n",
              "      <td>38.0</td>\n",
              "      <td>17.0</td>\n",
              "      <td>08B</td>\n",
              "      <td>1134772.0</td>\n",
              "      <td>1922299.0</td>\n",
              "      <td>2006</td>\n",
              "      <td>04/15/2016 08:55:02 AM</td>\n",
              "      <td>41.942984</td>\n",
              "      <td>-87.780057</td>\n",
              "      <td>(41.942984005, -87.780056951)</td>\n",
              "    </tr>\n",
              "    <tr>\n",
              "      <th>4</th>\n",
              "      <td>4673630</td>\n",
              "      <td>HM187120</td>\n",
              "      <td>02/17/2006 09:03:14 PM</td>\n",
              "      <td>037XX W 60TH ST</td>\n",
              "      <td>1811</td>\n",
              "      <td>NARCOTICS</td>\n",
              "      <td>POSS: CANNABIS 30GMS OR LESS</td>\n",
              "      <td>ALLEY</td>\n",
              "      <td>True</td>\n",
              "      <td>False</td>\n",
              "      <td>822</td>\n",
              "      <td>8.0</td>\n",
              "      <td>13.0</td>\n",
              "      <td>65.0</td>\n",
              "      <td>18</td>\n",
              "      <td>1152412.0</td>\n",
              "      <td>1864560.0</td>\n",
              "      <td>2006</td>\n",
              "      <td>04/15/2016 08:55:02 AM</td>\n",
              "      <td>41.784211</td>\n",
              "      <td>-87.716745</td>\n",
              "      <td>(41.784210853, -87.71674491)</td>\n",
              "    </tr>\n",
              "    <tr>\n",
              "      <th>5</th>\n",
              "      <td>4673631</td>\n",
              "      <td>HM263167</td>\n",
              "      <td>03/30/2006 10:30:00 PM</td>\n",
              "      <td>014XX W 73RD PL</td>\n",
              "      <td>0560</td>\n",
              "      <td>ASSAULT</td>\n",
              "      <td>SIMPLE</td>\n",
              "      <td>APARTMENT</td>\n",
              "      <td>True</td>\n",
              "      <td>False</td>\n",
              "      <td>734</td>\n",
              "      <td>7.0</td>\n",
              "      <td>17.0</td>\n",
              "      <td>67.0</td>\n",
              "      <td>08A</td>\n",
              "      <td>1167688.0</td>\n",
              "      <td>1855998.0</td>\n",
              "      <td>2006</td>\n",
              "      <td>04/15/2016 08:55:02 AM</td>\n",
              "      <td>41.760401</td>\n",
              "      <td>-87.660982</td>\n",
              "      <td>(41.760401372, -87.660982392)</td>\n",
              "    </tr>\n",
              "    <tr>\n",
              "      <th>6</th>\n",
              "      <td>4673632</td>\n",
              "      <td>HM273234</td>\n",
              "      <td>04/05/2006 12:10:00 PM</td>\n",
              "      <td>050XX N LARAMIE AVE</td>\n",
              "      <td>0460</td>\n",
              "      <td>BATTERY</td>\n",
              "      <td>SIMPLE</td>\n",
              "      <td>SCHOOL, PUBLIC, BUILDING</td>\n",
              "      <td>True</td>\n",
              "      <td>False</td>\n",
              "      <td>1623</td>\n",
              "      <td>16.0</td>\n",
              "      <td>45.0</td>\n",
              "      <td>11.0</td>\n",
              "      <td>08B</td>\n",
              "      <td>1140791.0</td>\n",
              "      <td>1932993.0</td>\n",
              "      <td>2006</td>\n",
              "      <td>04/15/2016 08:55:02 AM</td>\n",
              "      <td>41.972221</td>\n",
              "      <td>-87.757670</td>\n",
              "      <td>(41.972220564, -87.75766982)</td>\n",
              "    </tr>\n",
              "    <tr>\n",
              "      <th>7</th>\n",
              "      <td>4673633</td>\n",
              "      <td>HM275105</td>\n",
              "      <td>04/05/2006 03:00:00 PM</td>\n",
              "      <td>067XX S ROCKWELL ST</td>\n",
              "      <td>0820</td>\n",
              "      <td>THEFT</td>\n",
              "      <td>$500 AND UNDER</td>\n",
              "      <td>STREET</td>\n",
              "      <td>False</td>\n",
              "      <td>False</td>\n",
              "      <td>832</td>\n",
              "      <td>8.0</td>\n",
              "      <td>15.0</td>\n",
              "      <td>66.0</td>\n",
              "      <td>06</td>\n",
              "      <td>1160205.0</td>\n",
              "      <td>1859776.0</td>\n",
              "      <td>2006</td>\n",
              "      <td>04/15/2016 08:55:02 AM</td>\n",
              "      <td>41.770926</td>\n",
              "      <td>-87.688304</td>\n",
              "      <td>(41.770925978, -87.688304107)</td>\n",
              "    </tr>\n",
              "    <tr>\n",
              "      <th>8</th>\n",
              "      <td>4673634</td>\n",
              "      <td>HM275063</td>\n",
              "      <td>04/05/2006 09:30:00 PM</td>\n",
              "      <td>019XX W CHICAGO AVE</td>\n",
              "      <td>0560</td>\n",
              "      <td>ASSAULT</td>\n",
              "      <td>SIMPLE</td>\n",
              "      <td>PARKING LOT/GARAGE(NON.RESID.)</td>\n",
              "      <td>False</td>\n",
              "      <td>False</td>\n",
              "      <td>1322</td>\n",
              "      <td>12.0</td>\n",
              "      <td>32.0</td>\n",
              "      <td>24.0</td>\n",
              "      <td>08A</td>\n",
              "      <td>1163122.0</td>\n",
              "      <td>1905349.0</td>\n",
              "      <td>2006</td>\n",
              "      <td>04/15/2016 08:55:02 AM</td>\n",
              "      <td>41.895923</td>\n",
              "      <td>-87.676334</td>\n",
              "      <td>(41.895922672, -87.676333733)</td>\n",
              "    </tr>\n",
              "    <tr>\n",
              "      <th>9</th>\n",
              "      <td>4673635</td>\n",
              "      <td>HM268513</td>\n",
              "      <td>04/03/2006 03:00:00 AM</td>\n",
              "      <td>063XX S EBERHART AVE</td>\n",
              "      <td>0486</td>\n",
              "      <td>BATTERY</td>\n",
              "      <td>DOMESTIC BATTERY SIMPLE</td>\n",
              "      <td>SIDEWALK</td>\n",
              "      <td>False</td>\n",
              "      <td>True</td>\n",
              "      <td>312</td>\n",
              "      <td>3.0</td>\n",
              "      <td>20.0</td>\n",
              "      <td>42.0</td>\n",
              "      <td>08B</td>\n",
              "      <td>1180669.0</td>\n",
              "      <td>1863047.0</td>\n",
              "      <td>2006</td>\n",
              "      <td>04/15/2016 08:55:02 AM</td>\n",
              "      <td>41.779456</td>\n",
              "      <td>-87.613191</td>\n",
              "      <td>(41.77945628, -87.613190628)</td>\n",
              "    </tr>\n",
              "  </tbody>\n",
              "</table>\n",
              "</div>"
            ],
            "text/plain": [
              "        ID Case Number  ...  Longitude                       Location\n",
              "0  4673626    HM274058  ... -87.771996  (41.981912692, -87.771996382)\n",
              "1  4673627    HM202199  ... -87.611920  (41.775732538, -87.611919814)\n",
              "2  4673628    HM113861  ... -87.593671  (41.769897392, -87.593670899)\n",
              "3  4673629    HM274049  ... -87.780057  (41.942984005, -87.780056951)\n",
              "4  4673630    HM187120  ... -87.716745   (41.784210853, -87.71674491)\n",
              "5  4673631    HM263167  ... -87.660982  (41.760401372, -87.660982392)\n",
              "6  4673632    HM273234  ... -87.757670   (41.972220564, -87.75766982)\n",
              "7  4673633    HM275105  ... -87.688304  (41.770925978, -87.688304107)\n",
              "8  4673634    HM275063  ... -87.676334  (41.895922672, -87.676333733)\n",
              "9  4673635    HM268513  ... -87.613191   (41.77945628, -87.613190628)\n",
              "\n",
              "[10 rows x 22 columns]"
            ]
          },
          "metadata": {
            "tags": []
          },
          "execution_count": 178
        }
      ]
    },
    {
      "cell_type": "markdown",
      "metadata": {
        "id": "FjuoEC6gc8qX",
        "colab_type": "text"
      },
      "source": [
        "#Task 2. What Type of Crime Happen the most? And where they usually happpen?\n",
        "We won't take a look on all of them, we just need 5 most famous crimes.\n",
        "\n",
        "> This task will practice you to count each unique value in a column occur, make a list of a Series index, filter dataframe with different method."
      ]
    },
    {
      "cell_type": "code",
      "metadata": {
        "id": "XaI-hRRCmxgC",
        "colab_type": "code",
        "colab": {
          "base_uri": "https://localhost:8080/",
          "height": 413
        },
        "outputId": "bbdf3dd8-2000-44ae-f083-d1f6f2f9ba39"
      },
      "source": [
        "df.head()"
      ],
      "execution_count": 179,
      "outputs": [
        {
          "output_type": "execute_result",
          "data": {
            "text/html": [
              "<div>\n",
              "<style scoped>\n",
              "    .dataframe tbody tr th:only-of-type {\n",
              "        vertical-align: middle;\n",
              "    }\n",
              "\n",
              "    .dataframe tbody tr th {\n",
              "        vertical-align: top;\n",
              "    }\n",
              "\n",
              "    .dataframe thead th {\n",
              "        text-align: right;\n",
              "    }\n",
              "</style>\n",
              "<table border=\"1\" class=\"dataframe\">\n",
              "  <thead>\n",
              "    <tr style=\"text-align: right;\">\n",
              "      <th></th>\n",
              "      <th>ID</th>\n",
              "      <th>Case Number</th>\n",
              "      <th>Date</th>\n",
              "      <th>Block</th>\n",
              "      <th>IUCR</th>\n",
              "      <th>Primary Type</th>\n",
              "      <th>Description</th>\n",
              "      <th>Location Description</th>\n",
              "      <th>Arrest</th>\n",
              "      <th>Domestic</th>\n",
              "      <th>Beat</th>\n",
              "      <th>District</th>\n",
              "      <th>Ward</th>\n",
              "      <th>Community Area</th>\n",
              "      <th>FBI Code</th>\n",
              "      <th>X Coordinate</th>\n",
              "      <th>Y Coordinate</th>\n",
              "      <th>Year</th>\n",
              "      <th>Updated On</th>\n",
              "      <th>Latitude</th>\n",
              "      <th>Longitude</th>\n",
              "      <th>Location</th>\n",
              "    </tr>\n",
              "  </thead>\n",
              "  <tbody>\n",
              "    <tr>\n",
              "      <th>0</th>\n",
              "      <td>4673626</td>\n",
              "      <td>HM274058</td>\n",
              "      <td>04/02/2006 01:00:00 PM</td>\n",
              "      <td>055XX N MANGO AVE</td>\n",
              "      <td>2825</td>\n",
              "      <td>OTHER OFFENSE</td>\n",
              "      <td>HARASSMENT BY TELEPHONE</td>\n",
              "      <td>RESIDENCE</td>\n",
              "      <td>False</td>\n",
              "      <td>False</td>\n",
              "      <td>1622</td>\n",
              "      <td>16.0</td>\n",
              "      <td>45.0</td>\n",
              "      <td>11.0</td>\n",
              "      <td>26</td>\n",
              "      <td>1136872.0</td>\n",
              "      <td>1936499.0</td>\n",
              "      <td>2006</td>\n",
              "      <td>04/15/2016 08:55:02 AM</td>\n",
              "      <td>41.981913</td>\n",
              "      <td>-87.771996</td>\n",
              "      <td>(41.981912692, -87.771996382)</td>\n",
              "    </tr>\n",
              "    <tr>\n",
              "      <th>1</th>\n",
              "      <td>4673627</td>\n",
              "      <td>HM202199</td>\n",
              "      <td>02/26/2006 01:40:48 PM</td>\n",
              "      <td>065XX S RHODES AVE</td>\n",
              "      <td>2017</td>\n",
              "      <td>NARCOTICS</td>\n",
              "      <td>MANU/DELIVER:CRACK</td>\n",
              "      <td>SIDEWALK</td>\n",
              "      <td>True</td>\n",
              "      <td>False</td>\n",
              "      <td>321</td>\n",
              "      <td>3.0</td>\n",
              "      <td>20.0</td>\n",
              "      <td>42.0</td>\n",
              "      <td>18</td>\n",
              "      <td>1181027.0</td>\n",
              "      <td>1861693.0</td>\n",
              "      <td>2006</td>\n",
              "      <td>04/15/2016 08:55:02 AM</td>\n",
              "      <td>41.775733</td>\n",
              "      <td>-87.611920</td>\n",
              "      <td>(41.775732538, -87.611919814)</td>\n",
              "    </tr>\n",
              "    <tr>\n",
              "      <th>2</th>\n",
              "      <td>4673628</td>\n",
              "      <td>HM113861</td>\n",
              "      <td>01/08/2006 11:16:00 PM</td>\n",
              "      <td>013XX E 69TH ST</td>\n",
              "      <td>051A</td>\n",
              "      <td>ASSAULT</td>\n",
              "      <td>AGGRAVATED: HANDGUN</td>\n",
              "      <td>OTHER</td>\n",
              "      <td>False</td>\n",
              "      <td>False</td>\n",
              "      <td>321</td>\n",
              "      <td>3.0</td>\n",
              "      <td>5.0</td>\n",
              "      <td>69.0</td>\n",
              "      <td>04A</td>\n",
              "      <td>1186023.0</td>\n",
              "      <td>1859609.0</td>\n",
              "      <td>2006</td>\n",
              "      <td>04/15/2016 08:55:02 AM</td>\n",
              "      <td>41.769897</td>\n",
              "      <td>-87.593671</td>\n",
              "      <td>(41.769897392, -87.593670899)</td>\n",
              "    </tr>\n",
              "    <tr>\n",
              "      <th>3</th>\n",
              "      <td>4673629</td>\n",
              "      <td>HM274049</td>\n",
              "      <td>04/05/2006 06:45:00 PM</td>\n",
              "      <td>061XX W NEWPORT AVE</td>\n",
              "      <td>0460</td>\n",
              "      <td>BATTERY</td>\n",
              "      <td>SIMPLE</td>\n",
              "      <td>RESIDENCE</td>\n",
              "      <td>False</td>\n",
              "      <td>False</td>\n",
              "      <td>1633</td>\n",
              "      <td>16.0</td>\n",
              "      <td>38.0</td>\n",
              "      <td>17.0</td>\n",
              "      <td>08B</td>\n",
              "      <td>1134772.0</td>\n",
              "      <td>1922299.0</td>\n",
              "      <td>2006</td>\n",
              "      <td>04/15/2016 08:55:02 AM</td>\n",
              "      <td>41.942984</td>\n",
              "      <td>-87.780057</td>\n",
              "      <td>(41.942984005, -87.780056951)</td>\n",
              "    </tr>\n",
              "    <tr>\n",
              "      <th>4</th>\n",
              "      <td>4673630</td>\n",
              "      <td>HM187120</td>\n",
              "      <td>02/17/2006 09:03:14 PM</td>\n",
              "      <td>037XX W 60TH ST</td>\n",
              "      <td>1811</td>\n",
              "      <td>NARCOTICS</td>\n",
              "      <td>POSS: CANNABIS 30GMS OR LESS</td>\n",
              "      <td>ALLEY</td>\n",
              "      <td>True</td>\n",
              "      <td>False</td>\n",
              "      <td>822</td>\n",
              "      <td>8.0</td>\n",
              "      <td>13.0</td>\n",
              "      <td>65.0</td>\n",
              "      <td>18</td>\n",
              "      <td>1152412.0</td>\n",
              "      <td>1864560.0</td>\n",
              "      <td>2006</td>\n",
              "      <td>04/15/2016 08:55:02 AM</td>\n",
              "      <td>41.784211</td>\n",
              "      <td>-87.716745</td>\n",
              "      <td>(41.784210853, -87.71674491)</td>\n",
              "    </tr>\n",
              "  </tbody>\n",
              "</table>\n",
              "</div>"
            ],
            "text/plain": [
              "        ID Case Number  ...  Longitude                       Location\n",
              "0  4673626    HM274058  ... -87.771996  (41.981912692, -87.771996382)\n",
              "1  4673627    HM202199  ... -87.611920  (41.775732538, -87.611919814)\n",
              "2  4673628    HM113861  ... -87.593671  (41.769897392, -87.593670899)\n",
              "3  4673629    HM274049  ... -87.780057  (41.942984005, -87.780056951)\n",
              "4  4673630    HM187120  ... -87.716745   (41.784210853, -87.71674491)\n",
              "\n",
              "[5 rows x 22 columns]"
            ]
          },
          "metadata": {
            "tags": []
          },
          "execution_count": 179
        }
      ]
    },
    {
      "cell_type": "markdown",
      "metadata": {
        "id": "YEYKHwf4xefr",
        "colab_type": "text"
      },
      "source": [
        "<details>    \n",
        "<summary>\n",
        "    <font size=\"3\" color=\"darkgreen\"><b>Hints</b></font>\n",
        "</summary>\n",
        "<p>\n",
        "<ul>\n",
        "    <li>Remember on how to get number of each category occur. Yes, using value_counts()</li>\n",
        "</ul>\n",
        "</p>\n",
        "\n"
      ]
    },
    {
      "cell_type": "code",
      "metadata": {
        "id": "wd3CYPK0bj6a",
        "colab_type": "code",
        "colab": {
          "base_uri": "https://localhost:8080/",
          "height": 121
        },
        "outputId": "32ff1dd0-e15e-4e59-8413-5ac012b8dde0"
      },
      "source": [
        "### START CODE HERE (REPLACE INSTANCES OF 'None' with your code) ###\n",
        "#Count the top crime from Primary type column and get first 5 rows\n",
        "top_crimes = df['Primary Type'].value_counts().head()\n",
        "top_crimes"
      ],
      "execution_count": 180,
      "outputs": [
        {
          "output_type": "execute_result",
          "data": {
            "text/plain": [
              "THEFT              408265\n",
              "BATTERY            364186\n",
              "CRIMINAL DAMAGE    232960\n",
              "NARCOTICS          230750\n",
              "ASSAULT            121546\n",
              "Name: Primary Type, dtype: int64"
            ]
          },
          "metadata": {
            "tags": []
          },
          "execution_count": 180
        }
      ]
    },
    {
      "cell_type": "markdown",
      "metadata": {
        "id": "3t9pL5m4yUjX",
        "colab_type": "text"
      },
      "source": [
        "Now we're gonna find where isthe most crime occur by subseting (or filter) top crime dataframe so it only contain 5 top primary type crime."
      ]
    },
    {
      "cell_type": "code",
      "metadata": {
        "id": "e6czgH6czNYS",
        "colab_type": "code",
        "colab": {
          "base_uri": "https://localhost:8080/",
          "height": 208
        },
        "outputId": "f081bdd1-b462-4c15-a5bd-963e11ae580d"
      },
      "source": [
        "### START CODE HERE (REPLACE INSTANCES OF 'None' with your code) ###\n",
        "#Get top crimes index\n",
        "crime_list = top_crimes.index\n",
        "\n",
        "#Filter the primary type \n",
        "filter_crime = df[df['Primary Type'].isin(crime_list)]\n",
        "\n",
        "#Count location description and take 10 first rows\n",
        "filter_crime['Location Description'].value_counts().head(10)"
      ],
      "execution_count": 223,
      "outputs": [
        {
          "output_type": "execute_result",
          "data": {
            "text/plain": [
              "STREET                            368539\n",
              "RESIDENCE                         200898\n",
              "SIDEWALK                          155791\n",
              "APARTMENT                         128221\n",
              "OTHER                              49855\n",
              "PARKING LOT/GARAGE(NON.RESID.)     42131\n",
              "SCHOOL, PUBLIC, BUILDING           37728\n",
              "ALLEY                              33341\n",
              "RESIDENCE PORCH/HALLWAY            26440\n",
              "VEHICLE NON-COMMERCIAL             25661\n",
              "Name: Location Description, dtype: int64"
            ]
          },
          "metadata": {
            "tags": []
          },
          "execution_count": 223
        }
      ]
    },
    {
      "cell_type": "markdown",
      "metadata": {
        "id": "MoQC48Omy3w_",
        "colab_type": "text"
      },
      "source": [
        "EXPECTED OUTPUT\n",
        "```\n",
        "STREET                            368539\n",
        "RESIDENCE                         200898\n",
        "SIDEWALK                          155791\n",
        "APARTMENT                         128221\n",
        "OTHER                              49855\n",
        "PARKING LOT/GARAGE(NON.RESID.)     42131\n",
        "SCHOOL, PUBLIC, BUILDING           37728\n",
        "ALLEY                              33341\n",
        "RESIDENCE PORCH/HALLWAY            26440\n",
        "VEHICLE NON-COMMERCIAL             25661\n",
        "Name: Location Description, dtype: int64\n",
        "```"
      ]
    },
    {
      "cell_type": "markdown",
      "metadata": {
        "id": "nDKxdwBQjinE",
        "colab_type": "text"
      },
      "source": [
        "Obviously, the street is where crime is most prevalent, but interestingly residence is on the second place. That show crime could happen anywhere, that's why we need to be carefull all the time and don't forget to lock the door at night."
      ]
    },
    {
      "cell_type": "markdown",
      "metadata": {
        "id": "hy3lPYCW1wjm",
        "colab_type": "text"
      },
      "source": [
        "#Task 3. Arrest Rate\n",
        "Now let's see how is the performance of the police in making arrests?"
      ]
    },
    {
      "cell_type": "code",
      "metadata": {
        "id": "zc1xGzoAuPxL",
        "colab_type": "code",
        "colab": {}
      },
      "source": [
        "df.head()"
      ],
      "execution_count": null,
      "outputs": []
    },
    {
      "cell_type": "markdown",
      "metadata": {
        "id": "JDE0xA1a78qg",
        "colab_type": "text"
      },
      "source": [
        "TOTAL ARREST"
      ]
    },
    {
      "cell_type": "markdown",
      "metadata": {
        "id": "UPg0Zhyr9HBN",
        "colab_type": "text"
      },
      "source": [
        "<details>    \n",
        "<summary>\n",
        "    <font size=\"3\" color=\"darkgreen\"><b>Hints</b></font>\n",
        "</summary>\n",
        "<p>\n",
        "<ul>\n",
        "    <li>You can use dataframe filtering and .shape attribute to get the size of certain value in a column.</li>\n",
        "</ul>\n",
        "</p>\n",
        "\n"
      ]
    },
    {
      "cell_type": "code",
      "metadata": {
        "id": "Asq3iFMDzxXS",
        "colab_type": "code",
        "colab": {}
      },
      "source": [
        "### START CODE HERE (REPLACE INSTANCES OF 'None' with your code) ###\n",
        "#Lets count how many arrest the police made so far?\n",
        "\n",
        "#Count the number of True inside Arrest column as a series\n",
        "arrest = df[df.Arrest == True].shape[0]\n",
        "\n",
        "#Print the arrest number\n",
        "print('Police has made {:,.0f} arrests in 16 years'.format(arrest))"
      ],
      "execution_count": null,
      "outputs": []
    },
    {
      "cell_type": "markdown",
      "metadata": {
        "id": "BOPpzF_l9XRq",
        "colab_type": "text"
      },
      "source": [
        "EXPECTED OUTPUT\n",
        "```\n",
        "Police has made 573,381 of arrest in 16 years\n",
        "```"
      ]
    },
    {
      "cell_type": "markdown",
      "metadata": {
        "id": "Zy8KBLNF9lYc",
        "colab_type": "text"
      },
      "source": [
        "ARREST RATE<br>\n",
        "to count arrest rate you need to divide the number of arrest with total cases."
      ]
    },
    {
      "cell_type": "code",
      "metadata": {
        "id": "zKNOFz789YyU",
        "colab_type": "code",
        "colab": {}
      },
      "source": [
        "### START CODE HERE (REPLACE INSTANCES OF 'None' with your code) ###\n",
        "#We already can access the number of arrest, and now we only have to compute the arrest rate\n",
        "AR = arrest/df.shape[0]*100\n",
        "\n",
        "print('CPD arrest rate of reported crimes is {:.2f}%'.format(AR))"
      ],
      "execution_count": null,
      "outputs": []
    },
    {
      "cell_type": "markdown",
      "metadata": {
        "id": "PNM-BeJc3LoR",
        "colab_type": "text"
      },
      "source": [
        "EXPECTED OUTPUT\n",
        "```\n",
        "CPD arrest rate of reported crimes is 28.67%\n",
        "```"
      ]
    },
    {
      "cell_type": "markdown",
      "metadata": {
        "id": "GNX2d4ELCov9",
        "colab_type": "text"
      },
      "source": [
        "ARREST RATE FOR LESS SERIOUS OFFENSE AND SERIOUS OFFENSE<br>\n",
        "To get the category, I already made a .csv file containing FBI code and the category."
      ]
    },
    {
      "cell_type": "code",
      "metadata": {
        "id": "w5pc5JKXFo1I",
        "colab_type": "code",
        "colab": {}
      },
      "source": [
        "#RUN THIS CODE TO IMPORT THE FILE\n",
        "category = pd.read_csv('/content/drive/My Drive/Colab Notebooks/Python For Data Science Project/Week 2/Data/FBI_Code.csv')\n",
        "category"
      ],
      "execution_count": null,
      "outputs": []
    },
    {
      "cell_type": "markdown",
      "metadata": {
        "id": "AMTx1fNxGRzy",
        "colab_type": "text"
      },
      "source": [
        "Now we will join both dataframe based od the FBI code. But first, let's take a look at FBI code in our df values."
      ]
    },
    {
      "cell_type": "markdown",
      "metadata": {
        "id": "Hy9NIVuPLpLm",
        "colab_type": "text"
      },
      "source": [
        "<details>    \n",
        "<summary>\n",
        "    <font size=\"3\" color=\"darkgreen\"><b>Hints</b></font>\n",
        "</summary>\n",
        "<p>\n",
        "<ul>\n",
        "    <li>You know there are 2 ways to combine two dataframes by it's column.</li>\n",
        "    <li>if you use join() method, dont forget that key column on right table need to be the index.</li>\n",
        "    <li>if you use merge() method, make sure that both key columns are the same</li>\n",
        "</ul>\n",
        "</p>\n",
        "\n"
      ]
    },
    {
      "cell_type": "code",
      "metadata": {
        "id": "MA4pk41yGLYF",
        "colab_type": "code",
        "colab": {}
      },
      "source": [
        "### START CODE HERE (REPLACE INSTANCES OF 'None' with your code) ###\n",
        "#Pass outer in 'how' parameter so your df stay in it's original shape\n",
        "df = df = df.join(category.set_index('FBI Code'), on='FBI Code')\n",
        "df.head(10)"
      ],
      "execution_count": null,
      "outputs": []
    },
    {
      "cell_type": "markdown",
      "metadata": {
        "id": "sVmZ5gi4NgCx",
        "colab_type": "text"
      },
      "source": [
        "Less Serious Offenses"
      ]
    },
    {
      "cell_type": "markdown",
      "metadata": {
        "id": "KFLqdVTMM2Q3",
        "colab_type": "text"
      },
      "source": [
        "<details>    \n",
        "<summary>\n",
        "    <font size=\"3\" color=\"darkgreen\"><b>Hints</b></font>\n",
        "</summary>\n",
        "<p>\n",
        "<ul>\n",
        "    <li>Recall on how you subset a dataframe with a condition. You can use df[pd.Series Condition]</li>\n",
        "    <li>To get number of cases you only need to get the shape of LSO dataframe.</li>\n",
        "    <li>Arrest Rate = Number of Arrest/Number of cases*100%</li>\n",
        "</ul>\n",
        "</p>\n",
        "\n"
      ]
    },
    {
      "cell_type": "code",
      "metadata": {
        "id": "A84n0Z45Gf09",
        "colab_type": "code",
        "colab": {}
      },
      "source": [
        "### START CODE HERE (REPLACE INSTANCES OF 'None' with your code) ###\n",
        "#Number of Less Serious Offense\n",
        "#Subset the dataframe so it only has Less Serious Offenses category\n",
        "LSO = df[df['Offense Category']=='LESS SERIOUS OFFENSES']\n",
        "\n",
        "#Number of cases\n",
        "LSO_number = LSO.shape[0]\n",
        "\n",
        "#Compute the arrest rate\n",
        "LSO_AR = df[(df['Offense Category']=='LESS SERIOUS OFFENSES') & (df.Arrest == True)].shape[0]/LSO_number*100\n",
        "\n",
        "#Print the number of cases and the arrest rate\n",
        "print('There were {:,.0f} less serious offense happened from 2001-2017 with arrest rate of {:.2f}%'.format(LSO_number,LSO_AR))"
      ],
      "execution_count": null,
      "outputs": []
    },
    {
      "cell_type": "markdown",
      "metadata": {
        "id": "atK647zYK7cZ",
        "colab_type": "text"
      },
      "source": [
        "EXPECTED OUTPUT\n",
        "```\n",
        "There were 1,207,115 less serious offense happened from 2001-2017 with arrest rate of 39.34%\n",
        "```\n"
      ]
    },
    {
      "cell_type": "markdown",
      "metadata": {
        "id": "xLQbuxhWNjlO",
        "colab_type": "text"
      },
      "source": [
        "Serious Offenses"
      ]
    },
    {
      "cell_type": "code",
      "metadata": {
        "id": "p9sD93_GIJSw",
        "colab_type": "code",
        "colab": {}
      },
      "source": [
        "### START CODE HERE (REPLACE INSTANCES OF 'None' with your code) ###\n",
        "#Number of Serious Offense\n",
        "#Subset the dataframe so it only has Serious Offenses category\n",
        "SO = df[df['Offense Category']=='SERIOUS OFFENSES']\n",
        "\n",
        "#Number of cases\n",
        "SO_number = SO.shape[0]\n",
        "\n",
        "#Compute the arrest rate\n",
        "SO_AR = df[(df['Offense Category']=='SERIOUS OFFENSES') & (df.Arrest == True)].shape[0]/SO_number*100\n",
        "\n",
        "#Print the number of cases and the arrest rate\n",
        "print('There were {:,.0f} serious offense happened from 2001-2017 with arrest rate of {:.2f}%'.format(SO_number, SO_AR))"
      ],
      "execution_count": null,
      "outputs": []
    },
    {
      "cell_type": "markdown",
      "metadata": {
        "id": "9hrraQycLAGt",
        "colab_type": "text"
      },
      "source": [
        "EXPECTED OUTPUT\n",
        "```\n",
        "There were 792,885 serious offense happened from 2001-2017 with arrest rate of 12.42%\n",
        "```"
      ]
    },
    {
      "cell_type": "markdown",
      "metadata": {
        "id": "_FtIYCMunhGX",
        "colab_type": "text"
      },
      "source": [
        "#Task 4. What Times Do Most Crime Occur?\n",
        "As your captain, it's important to utilize man resource in correct time to patrol. So, you wonder, when is the time moset crime occur?\n",
        "\n",
        "> This task will practice you to change column type to datetime, extract hour attribute of datetime column, and find values frequency in a column."
      ]
    },
    {
      "cell_type": "code",
      "metadata": {
        "id": "YUw86Bc8nUFZ",
        "colab_type": "code",
        "colab": {
          "base_uri": "https://localhost:8080/",
          "height": 520
        },
        "outputId": "d613c66a-e6ea-46dc-eb88-d3edf223e23d"
      },
      "source": [
        "#Since I haven't introduce to change column type to datetime so, i'll guide you this time.\n",
        "#To change column to datetime, we can use pd.to_datetime(), you can see the format for your datetime here: https://docs.python.org/3/library/datetime.html#strftime-and-strptime-behavior\n",
        "df['Date'] = pd.to_datetime(df.Date, format='%m/%d/%Y %I:%M:%S %p')\n",
        "df.info()"
      ],
      "execution_count": 193,
      "outputs": [
        {
          "output_type": "stream",
          "text": [
            "<class 'pandas.core.frame.DataFrame'>\n",
            "RangeIndex: 2000000 entries, 0 to 1999999\n",
            "Data columns (total 22 columns):\n",
            " #   Column                Dtype         \n",
            "---  ------                -----         \n",
            " 0   ID                    int64         \n",
            " 1   Case Number           object        \n",
            " 2   Date                  datetime64[ns]\n",
            " 3   Block                 object        \n",
            " 4   IUCR                  object        \n",
            " 5   Primary Type          object        \n",
            " 6   Description           object        \n",
            " 7   Location Description  object        \n",
            " 8   Arrest                bool          \n",
            " 9   Domestic              bool          \n",
            " 10  Beat                  int64         \n",
            " 11  District              object        \n",
            " 12  Ward                  float64       \n",
            " 13  Community Area        float64       \n",
            " 14  FBI Code              object        \n",
            " 15  X Coordinate          float64       \n",
            " 16  Y Coordinate          float64       \n",
            " 17  Year                  int64         \n",
            " 18  Updated On            object        \n",
            " 19  Latitude              float64       \n",
            " 20  Longitude             float64       \n",
            " 21  Location              object        \n",
            "dtypes: bool(2), datetime64[ns](1), float64(6), int64(3), object(10)\n",
            "memory usage: 309.0+ MB\n"
          ],
          "name": "stdout"
        }
      ]
    },
    {
      "cell_type": "markdown",
      "metadata": {
        "id": "fI9sCcRkv_-7",
        "colab_type": "text"
      },
      "source": [
        "<details>    \n",
        "<summary>\n",
        "    <font size=\"3\" color=\"darkgreen\"><b>Hints</b></font>\n",
        "</summary>\n",
        "<p>\n",
        "<ul>\n",
        "    <li>to get hour from datetime column, you can use pd.Series.dt.hour</li>\n",
        "    <li>Remember we want to compute size of each value in hour appear. So, we could use value_counts().</li>\n",
        "    <li>value.counts() return us a pd.Series with sorted value descendingly, but we want the series sorted within the index (from 0 hours to 23 hours)</li>\n",
        "</ul>\n",
        "</p>\n",
        "\n"
      ]
    },
    {
      "cell_type": "code",
      "metadata": {
        "id": "WNcWWPs2zqZq",
        "colab_type": "code",
        "colab": {
          "base_uri": "https://localhost:8080/",
          "height": 451
        },
        "outputId": "ef5e13f0-7ee2-446e-bda9-5b187c2cca3c"
      },
      "source": [
        "### START CODE HERE (REPLACE INSTANCES OF 'None' with your code) ###\n",
        "\n",
        "#Get the hour from Date column\n",
        "df['hours'] = df.Date.dt.hour\n",
        "\n",
        "#Compute crime time and sort the index.\n",
        "most_time = df.hours.value_counts().sort_index()\n",
        "\n",
        "most_time"
      ],
      "execution_count": 194,
      "outputs": [
        {
          "output_type": "execute_result",
          "data": {
            "text/plain": [
              "0     112548\n",
              "1      64259\n",
              "2      53857\n",
              "3      43091\n",
              "4      31946\n",
              "5      26281\n",
              "6      30493\n",
              "7      45189\n",
              "8      67321\n",
              "9      85406\n",
              "10     83913\n",
              "11     87838\n",
              "12    111880\n",
              "13     94451\n",
              "14    100072\n",
              "15    105856\n",
              "16    100075\n",
              "17    101165\n",
              "18    109242\n",
              "19    113937\n",
              "20    114639\n",
              "21    113396\n",
              "22    111832\n",
              "23     91313\n",
              "Name: hours, dtype: int64"
            ]
          },
          "metadata": {
            "tags": []
          },
          "execution_count": 194
        }
      ]
    },
    {
      "cell_type": "markdown",
      "metadata": {
        "id": "OpMuKkJUtfJe",
        "colab_type": "text"
      },
      "source": [
        "EXPECTED OUTPUT\n",
        "```\n",
        "0     112548\n",
        "1      64259\n",
        "2      53857\n",
        "3      43091\n",
        "4      31946\n",
        "5      26281\n",
        "6      30493\n",
        "7      45189\n",
        "8      67321\n",
        "9      85406\n",
        "10     83913\n",
        "11     87838\n",
        "12    111880\n",
        "13     94451\n",
        "14    100072\n",
        "15    105856\n",
        "16    100075\n",
        "17    101165\n",
        "18    109242\n",
        "19    113937\n",
        "20    114639\n",
        "21    113396\n",
        "22    111832\n",
        "23     91313\n",
        "Name: hours, dtype: int64\n",
        "```\n",
        "Kinda hard to see what time is it right? Now I'm gonna visualize it with seaborn."
      ]
    },
    {
      "cell_type": "code",
      "metadata": {
        "id": "L3yloctatH2g",
        "colab_type": "code",
        "colab": {
          "base_uri": "https://localhost:8080/",
          "height": 513
        },
        "outputId": "d761d055-c407-4851-c87b-ee7326ab8f4f"
      },
      "source": [
        "#RUN THE CELL AND DO NOT EDIT IT\n",
        "import seaborn as sns\n",
        "import matplotlib.pyplot as plt\n",
        "\n",
        "ax,fig = plt.subplots(figsize=(16,8))\n",
        "\n",
        "ax = sns.lineplot(x = most_time.index, y = most_time.values).set(xlabel='Hours', ylabel='Number of Crimes',title='Time of the Crimes')\n",
        "ax = plt.xticks([i for i in range(0,24)],[i for i in range(0,24)])\n",
        "plt.grid(True)"
      ],
      "execution_count": 195,
      "outputs": [
        {
          "output_type": "display_data",
          "data": {
            "image/png": "[encoded data removed]",
            "text/plain": [
              "<Figure size 1152x576 with 1 Axes>"
            ]
          },
          "metadata": {
            "tags": [],
            "needs_background": "light"
          }
        }
      ]
    },
    {
      "cell_type": "markdown",
      "metadata": {
        "id": "5jTSv9pxuvbD",
        "colab_type": "text"
      },
      "source": [
        "Now you could see that crimes increasing from 9.00 AM to 00.00 AM but the peak is at night around 18.00 - 22.00. However, crimes sharply decreased near dawn. With this information you can deploy your man in the right time. "
      ]
    },
    {
      "cell_type": "markdown",
      "metadata": {
        "id": "1LvTfgZ1rcI2",
        "colab_type": "text"
      },
      "source": [
        "#Task 5. Mapping Crime Pattern Accross the Day\n",
        "Now we're gonna make a geospatial map that visualize crime pattern every hour. For now' I will make the visualization, and you can help me prepare the data."
      ]
    },
    {
      "cell_type": "markdown",
      "metadata": {
        "id": "dWE4dXC3sE97",
        "colab_type": "text"
      },
      "source": [
        "First, to make choropleth map, we need to import geospatial boundary for Chicago districts in form of geojson. I already download and save the file inside Data/ folder. The Json looks like something like this:\n",
        "```\n",
        "{\n",
        "  \"type\": \"FeatureCollection\",\n",
        "  \"features\": [\n",
        "    {\"type\":\"Feature\",\"properties\":{\"dist_label\":\"17TH\",\"dist_num\":\"17\"},\n",
        "```\n",
        "You can see that dist_num inside the json files is in string type. So we gotta change our District column to string type. But, take a look at the column first."
      ]
    },
    {
      "cell_type": "code",
      "metadata": {
        "id": "BVHeiIyns1w2",
        "colab_type": "code",
        "colab": {
          "base_uri": "https://localhost:8080/",
          "height": 121
        },
        "outputId": "d7b5dc8b-c23c-4787-ef8e-5c1f234819d4"
      },
      "source": [
        "df.District.head(5)"
      ],
      "execution_count": 206,
      "outputs": [
        {
          "output_type": "execute_result",
          "data": {
            "text/plain": [
              "0    16\n",
              "1     3\n",
              "2     3\n",
              "3    16\n",
              "4     8\n",
              "Name: District, dtype: object"
            ]
          },
          "metadata": {
            "tags": []
          },
          "execution_count": 206
        }
      ]
    },
    {
      "cell_type": "markdown",
      "metadata": {
        "id": "cAq8jm56tFUp",
        "colab_type": "text"
      },
      "source": [
        "District column is float type, if we convert it directly to string, it will become something like '16.0' while we want to remove '.0' or decimal part. So what we are going to do now is to change it to integer first, then to string. However, District column contain NaN values, if we directly change the type by astype, it will rise error, so we're gonna access the column one by one."
      ]
    },
    {
      "cell_type": "markdown",
      "metadata": {
        "id": "7XGKuZvlwF8t",
        "colab_type": "text"
      },
      "source": [
        "<details>    \n",
        "<summary>\n",
        "    <font size=\"3\" color=\"darkgreen\"><b>Hints</b></font>\n",
        "</summary>\n",
        "<p>\n",
        "<ul>\n",
        "    <li>to convert data to int we can use int(), and to convert data to string we can use str() method.</li>\n",
        "    <li>Remember if we want to apply a function row wise in a column, we can use .apply() method with lambda function inside.</li>\n",
        "</ul>\n",
        "</p>\n",
        "\n"
      ]
    },
    {
      "cell_type": "code",
      "metadata": {
        "id": "7CIX2h0tTREP",
        "colab_type": "code",
        "colab": {
          "base_uri": "https://localhost:8080/",
          "height": 121
        },
        "outputId": "f90cbbe1-613a-4f04-fb9e-a0160177782a"
      },
      "source": [
        "### START CODE HERE (REPLACE INSTANCES OF 'None' with your code) ###\n",
        "#Create tostr() function with error handling\n",
        "def tostr(x):\n",
        "  try:\n",
        "    #Convert x to integer\n",
        "    i = int(x)\n",
        "\n",
        "    #Convert i to string\n",
        "    i = str(i)\n",
        "  except ValueError:\n",
        "    i = x\n",
        "\n",
        "  return i \n",
        "\n",
        "#Iterate over district column row-wise\n",
        "df['District'] = df.District.apply(lambda x: tostr(x))\n",
        "df['District'].head()"
      ],
      "execution_count": 221,
      "outputs": [
        {
          "output_type": "execute_result",
          "data": {
            "text/plain": [
              "0    16\n",
              "1     3\n",
              "2     3\n",
              "3    16\n",
              "4     8\n",
              "Name: District, dtype: object"
            ]
          },
          "metadata": {
            "tags": []
          },
          "execution_count": 221
        }
      ]
    },
    {
      "cell_type": "markdown",
      "metadata": {
        "id": "1Ww_ytKCvk6F",
        "colab_type": "text"
      },
      "source": [
        "EXPECTED OUTPUT\n",
        "```\n",
        "0    16\n",
        "1     3\n",
        "2     3\n",
        "3    16\n",
        "4     8\n",
        "Name: District, dtype: object\n",
        "```"
      ]
    },
    {
      "cell_type": "markdown",
      "metadata": {
        "id": "zsTx6OskwiPP",
        "colab_type": "text"
      },
      "source": [
        "Now, to create the map, I need a list of dataframe that have been filtered by the hour from 0-23 and contain only number of crime each district. To increase our skill, we will do this only with one line of code.\n",
        "1. First you need to filter your dataframe by the hour as an index that loop over 0-23 later.\n",
        "2. Second, you will compute Distric column values frequency.\n",
        "3. Step 2 yield a pandas series, and we need to change it to dataframe, because I'll need to access the column name on visualization.\n",
        "4. Rename 'index' column to 'District', and 'District' columns to 'Crimes'\n",
        "5. Define the loop to subtitute the hour value in step 1.\n"
      ]
    },
    {
      "cell_type": "markdown",
      "metadata": {
        "id": "MCehRaim1rh6",
        "colab_type": "text"
      },
      "source": [
        "<details>    \n",
        "<summary>\n",
        "    <font size=\"3\" color=\"darkgreen\"><b>Hints</b></font>\n",
        "</summary>\n",
        "<p>\n",
        "<ul>\n",
        "    <li>For step 1, remember you can filter the data by subsetting it with df[df.COLUMN_NAME CONDITION]</li>\n",
        "    <li>To compute frequency, we can use value_counts() to district column</li>\n",
        "    <li>To make pd.Series back to Dataframe and reset the index, we can use reset_index() method.</li>\n",
        "    <li>To rename columns we can use .rename(column={}) method</li>\n",
        "    <li>Because we need the hour to be a value from 0 to 23, we can use in range() method.</li>\n",
        "</ul>\n",
        "</p>\n",
        "\n"
      ]
    },
    {
      "cell_type": "code",
      "metadata": {
        "id": "QY4kZEBvzkKq",
        "colab_type": "code",
        "colab": {
          "base_uri": "https://localhost:8080/",
          "height": 35
        },
        "outputId": "ca135984-80dd-4084-d795-2debf3943188"
      },
      "source": [
        "### START CODE HERE (REPLACE INSTANCES OF 'None' with your code) ###\n",
        "#All the step is on the desription above\n",
        "#hours_list = [None.None.None for i in None]\n",
        "\n",
        "hours_list = [df['District'].value_counts().reset_index().rename(columns={'index':'District', 'District':'Crimes'}) for i in range(0,24)]\n",
        "len(hours_list)"
      ],
      "execution_count": 214,
      "outputs": [
        {
          "output_type": "execute_result",
          "data": {
            "text/plain": [
              "24"
            ]
          },
          "metadata": {
            "tags": []
          },
          "execution_count": 214
        }
      ]
    },
    {
      "cell_type": "markdown",
      "metadata": {
        "id": "IR-GNvzwxUCq",
        "colab_type": "text"
      },
      "source": [
        "EXPECTED OUTPUT\n",
        "```\n",
        "24\n",
        "```"
      ]
    },
    {
      "cell_type": "markdown",
      "metadata": {
        "id": "5Q4BpOF60GC7",
        "colab_type": "text"
      },
      "source": [
        "Cool, thanks for helping. Now the data is ready. All you have to do is run the cell above. Unfortunately, the map can't be shown directly in output terminal. But in the line we save the map in html format that you can see in your current directory. Just download it and open with your favorite browser."
      ]
    },
    {
      "cell_type": "code",
      "metadata": {
        "id": "-uig6ib3P_WJ",
        "colab_type": "code",
        "colab": {
          "base_uri": "https://localhost:8080/",
          "height": 433
        },
        "outputId": "32263565-b5a0-472e-8906-2bf569157119"
      },
      "source": [
        "### RUN THIS CELL AND DO NOT EDIT ###\n",
        "import folium\n",
        "from branca.colormap import linear\n",
        "\n",
        "map = folium.Map(location=[41.8477468, -87.7567485], tiles='cartodbpositron')\n",
        "\n",
        "fs = [folium.FeatureGroup(name='{}'.format(i),overlay=False).add_to(map) for i in range(0,24)]\n",
        "\n",
        "geojson = \"/content/drive/My Drive/Colab Notebooks/Python For Data Science Project/Week 2/Data/Chicago Crime/District.geojson\"\n",
        "for i in range(len(hours_list)): \n",
        "    choropleth1 = folium.Choropleth(\n",
        "    geo_data= geojson,\n",
        "    name='choropleth',\n",
        "    data=hours_list[i],\n",
        "    columns=['District', 'Crimes'],\n",
        "    key_on='feature.properties.dist_num',\n",
        "    fill_color='BuPu',\n",
        "    fill_opacity=0.7,\n",
        "    line_opacity=0.2,\n",
        "    legend_name='Crimes',\n",
        "    highlight=True,\n",
        "    line_color='black').geojson.add_to(fs[i])\n",
        "\n",
        "\n",
        "    #geojson for labels\n",
        "    geojson1 = folium.GeoJson(data=\"/content/drive/My Drive/Colab Notebooks/Python For Data Science Project/Week 2/Data/Chicago Crime/District.geojson\",\n",
        "               name='Chicago Police Districts',\n",
        "                         smooth_factor=2,\n",
        "               style_function=lambda x: {'color':'black','fillColor':'transparent','weight':0.5},\n",
        "                tooltip=folium.GeoJsonTooltip(fields=['dist_num'],\n",
        "                                              labels=False,\n",
        "                                              sticky=True),\n",
        "              highlight_function=lambda x: {'weight':3,'fillColor':'grey'},\n",
        "                        \n",
        "                       ).add_to(choropleth1)\n",
        "\n",
        "crime_min, crime_max = 10e6, 0\n",
        "for i in hours_list:\n",
        "  crime_min = i.Crimes.min() if i.Crimes.min()<crime_min else crime_min\n",
        "  crime_max = i.Crimes.max() if i.Crimes.max()>crime_max else crime_max\n",
        "  print(crime_min,crime_max)\n",
        "\n",
        "colormap = linear.BuPu_09.scale(\n",
        "crime_min,\n",
        "crime_max).to_step(10)\n",
        "colormap.caption = 'Crimes'\n",
        "colormap.add_to(map)\n",
        "\n",
        "folium.TileLayer('cartodbdark_matter',overlay=True,name=\"dark mode\").add_to(map)\n",
        "folium.TileLayer('cartodbpositron',overlay=True,name=\"light mode\").add_to(map)\n",
        "\n",
        "folium.LayerControl(collapsed=False).add_to(map)\n",
        "\n",
        "map.save('crimes_hour.html')"
      ],
      "execution_count": 219,
      "outputs": [
        {
          "output_type": "stream",
          "text": [
            "1 137726\n",
            "1 137726\n",
            "1 137726\n",
            "1 137726\n",
            "1 137726\n",
            "1 137726\n",
            "1 137726\n",
            "1 137726\n",
            "1 137726\n",
            "1 137726\n",
            "1 137726\n",
            "1 137726\n",
            "1 137726\n",
            "1 137726\n",
            "1 137726\n",
            "1 137726\n",
            "1 137726\n",
            "1 137726\n",
            "1 137726\n",
            "1 137726\n",
            "1 137726\n",
            "1 137726\n",
            "1 137726\n",
            "1 137726\n"
          ],
          "name": "stdout"
        }
      ]
    },
    {
      "cell_type": "markdown",
      "metadata": {
        "id": "LS1ZuA2807ze",
        "colab_type": "text"
      },
      "source": [
        "You will see map like this:\n",
        "![](https://drive.google.com/uc?export=view&id=1pq6TvVj9SSxLpIxRG61xdb-ouWDKVU7V)"
      ]
    },
    {
      "cell_type": "markdown",
      "metadata": {
        "id": "JXqo1oIZ2gTA",
        "colab_type": "text"
      },
      "source": [
        "Good job! Now you can optimize your troops deployment to correct time and places. "
      ]
    }
  ]
}